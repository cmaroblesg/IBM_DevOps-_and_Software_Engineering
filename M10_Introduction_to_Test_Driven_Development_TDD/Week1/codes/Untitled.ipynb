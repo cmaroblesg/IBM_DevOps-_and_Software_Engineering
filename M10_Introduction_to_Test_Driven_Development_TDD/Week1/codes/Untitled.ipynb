{
 "cells": [
  {
   "cell_type": "code",
   "execution_count": 6,
   "id": "a1d7467e-b4b6-4b0d-ab95-6855f88ac77e",
   "metadata": {},
   "outputs": [
    {
     "name": "stdout",
     "output_type": "stream",
     "text": [
      "The area of a triangle (3.5, 8.5) is: 14.875\n",
      "The area of a triangle (2, 5) is: 5.0\n",
      "The area of a triangle (0, 5) is: 0.0\n",
      "The area of a triangle (-2, 5) is: -5.0\n",
      "The area of a triangle (True, 5) is: 2.5\n"
     ]
    },
    {
     "ename": "TypeError",
     "evalue": "unsupported operand type(s) for /: 'str' and 'int'",
     "output_type": "error",
     "traceback": [
      "\u001b[0;31m---------------------------------------------------------------------------\u001b[0m",
      "\u001b[0;31mTypeError\u001b[0m                                 Traceback (most recent call last)",
      "Input \u001b[0;32mIn [6]\u001b[0m, in \u001b[0;36m<module>\u001b[0;34m\u001b[0m\n\u001b[1;32m      4\u001b[0m test_data\u001b[38;5;241m=\u001b[39m[(\u001b[38;5;241m3.5\u001b[39m, \u001b[38;5;241m8.5\u001b[39m),  \u001b[38;5;66;03m# Float\u001b[39;00m\n\u001b[1;32m      5\u001b[0m            (\u001b[38;5;241m2\u001b[39m, \u001b[38;5;241m5\u001b[39m),      \u001b[38;5;66;03m# Integer\u001b[39;00m\n\u001b[1;32m      6\u001b[0m            (\u001b[38;5;241m0\u001b[39m, \u001b[38;5;241m5\u001b[39m),      \u001b[38;5;66;03m# Zero\u001b[39;00m\n\u001b[1;32m      7\u001b[0m            (\u001b[38;5;241m-\u001b[39m\u001b[38;5;241m2\u001b[39m, \u001b[38;5;241m5\u001b[39m),     \u001b[38;5;66;03m# Negative\u001b[39;00m\n\u001b[1;32m      8\u001b[0m            (\u001b[38;5;28;01mTrue\u001b[39;00m, \u001b[38;5;241m5\u001b[39m),   \u001b[38;5;66;03m# Boolean\u001b[39;00m\n\u001b[1;32m      9\u001b[0m            (\u001b[38;5;124m\"\u001b[39m\u001b[38;5;124mbase\u001b[39m\u001b[38;5;124m\"\u001b[39m, \u001b[38;5;241m5\u001b[39m)] \u001b[38;5;66;03m# String\u001b[39;00m\n\u001b[1;32m     11\u001b[0m \u001b[38;5;28;01mfor\u001b[39;00m data \u001b[38;5;129;01min\u001b[39;00m test_data:\n\u001b[1;32m     12\u001b[0m     \u001b[38;5;28mprint\u001b[39m(\u001b[38;5;124mf\u001b[39m\u001b[38;5;124m\"\u001b[39m\u001b[38;5;124mThe area of a triangle \u001b[39m\u001b[38;5;132;01m{\u001b[39;00mdata\u001b[38;5;132;01m}\u001b[39;00m\u001b[38;5;124m\"\u001b[39m\\\n\u001b[0;32m---> 13\u001b[0m           \u001b[38;5;124mf\u001b[39m\u001b[38;5;124m\"\u001b[39m\u001b[38;5;124m is: \u001b[39m\u001b[38;5;132;01m{\u001b[39;00marea_of_a_triangle(\u001b[38;5;241m*\u001b[39mdata)\u001b[38;5;132;01m}\u001b[39;00m\u001b[38;5;124m\"\u001b[39m)\n",
      "Input \u001b[0;32mIn [6]\u001b[0m, in \u001b[0;36marea_of_a_triangle\u001b[0;34m(base, height)\u001b[0m\n\u001b[1;32m      1\u001b[0m \u001b[38;5;28;01mdef\u001b[39;00m \u001b[38;5;21marea_of_a_triangle\u001b[39m(base, height):\n\u001b[0;32m----> 2\u001b[0m     \u001b[38;5;28;01mreturn\u001b[39;00m (\u001b[43mbase\u001b[49m\u001b[38;5;241;43m/\u001b[39;49m\u001b[38;5;241;43m2\u001b[39;49m)\u001b[38;5;241m*\u001b[39mheight\n",
      "\u001b[0;31mTypeError\u001b[0m: unsupported operand type(s) for /: 'str' and 'int'"
     ]
    }
   ],
   "source": [
    "def area_of_a_triangle(base, height):\n",
    "    return (base/2)*height\n",
    "\n",
    "test_data=[(3.5, 8.5),  # Float\n",
    "           (2, 5),      # Integer\n",
    "           (0, 5),      # Zero\n",
    "           (-2, 5),     # Negative\n",
    "           (True, 5),   # Boolean\n",
    "           (\"base\", 5)] # String\n",
    "\n",
    "for data in test_data:\n",
    "    print(f\"The area of a triangle {data}\"\\\n",
    "          f\" is: {area_of_a_triangle(*data)}\")"
   ]
  },
  {
   "cell_type": "code",
   "execution_count": 9,
   "id": "cf3918b4-467e-4559-a85f-ea75d95279a5",
   "metadata": {},
   "outputs": [],
   "source": [
    "def area_of_a_triangle(base: float, height: float) -> float:\n",
    "    \"\"\" Calculates area of a triangle given non-negatives numbers\"\"\"\n",
    "    \n",
    "    # Check if we have the correct parameters types\n",
    "    if type(base) not in [int, float]:\n",
    "        raise TypeError(\"Base must be a number\")\n",
    "    if type(height) not in [int, float]:\n",
    "        raise TypeError(\"Height must be a number\")\n",
    "        \n",
    "    # Check if we have the correct parameter values\n",
    "    if base < 0:\n",
    "        raise ValueError(\"Base must be a positive number\")\n",
    "    if height < 0:\n",
    "        raise ValueError(\"Height must be a positive number\")\n",
    "    return (base/2)*height"
   ]
  },
  {
   "cell_type": "code",
   "execution_count": 10,
   "id": "e8f8b0a2-eb40-4af2-84c4-bd2ba75b79f3",
   "metadata": {},
   "outputs": [
    {
     "name": "stdout",
     "output_type": "stream",
     "text": [
      "The area of a triangle (3.5, 8.5) is: 14.875\n",
      "The area of a triangle (2, 5) is: 5.0\n",
      "The area of a triangle (0, 5) is: 0.0\n"
     ]
    },
    {
     "ename": "ValueError",
     "evalue": "Base must be a positive number",
     "output_type": "error",
     "traceback": [
      "\u001b[0;31m---------------------------------------------------------------------------\u001b[0m",
      "\u001b[0;31mValueError\u001b[0m                                Traceback (most recent call last)",
      "Input \u001b[0;32mIn [10]\u001b[0m, in \u001b[0;36m<module>\u001b[0;34m\u001b[0m\n\u001b[1;32m      1\u001b[0m \u001b[38;5;28;01mfor\u001b[39;00m data \u001b[38;5;129;01min\u001b[39;00m test_data:\n\u001b[1;32m      2\u001b[0m     \u001b[38;5;28mprint\u001b[39m(\u001b[38;5;124mf\u001b[39m\u001b[38;5;124m\"\u001b[39m\u001b[38;5;124mThe area of a triangle \u001b[39m\u001b[38;5;132;01m{\u001b[39;00mdata\u001b[38;5;132;01m}\u001b[39;00m\u001b[38;5;124m\"\u001b[39m\\\n\u001b[0;32m----> 3\u001b[0m           \u001b[38;5;124mf\u001b[39m\u001b[38;5;124m\"\u001b[39m\u001b[38;5;124m is: \u001b[39m\u001b[38;5;132;01m{\u001b[39;00marea_of_a_triangle(\u001b[38;5;241m*\u001b[39mdata)\u001b[38;5;132;01m}\u001b[39;00m\u001b[38;5;124m\"\u001b[39m)\n",
      "Input \u001b[0;32mIn [9]\u001b[0m, in \u001b[0;36marea_of_a_triangle\u001b[0;34m(base, height)\u001b[0m\n\u001b[1;32m     10\u001b[0m \u001b[38;5;66;03m# Check if we have the correct parameter values\u001b[39;00m\n\u001b[1;32m     11\u001b[0m \u001b[38;5;28;01mif\u001b[39;00m base \u001b[38;5;241m<\u001b[39m \u001b[38;5;241m0\u001b[39m:\n\u001b[0;32m---> 12\u001b[0m     \u001b[38;5;28;01mraise\u001b[39;00m \u001b[38;5;167;01mValueError\u001b[39;00m(\u001b[38;5;124m\"\u001b[39m\u001b[38;5;124mBase must be a positive number\u001b[39m\u001b[38;5;124m\"\u001b[39m)\n\u001b[1;32m     13\u001b[0m \u001b[38;5;28;01mif\u001b[39;00m height \u001b[38;5;241m<\u001b[39m \u001b[38;5;241m0\u001b[39m:\n\u001b[1;32m     14\u001b[0m     \u001b[38;5;28;01mraise\u001b[39;00m \u001b[38;5;167;01mValueError\u001b[39;00m(\u001b[38;5;124m\"\u001b[39m\u001b[38;5;124mHeight must be a positive number\u001b[39m\u001b[38;5;124m\"\u001b[39m)\n",
      "\u001b[0;31mValueError\u001b[0m: Base must be a positive number"
     ]
    }
   ],
   "source": [
    "for data in test_data:\n",
    "    print(f\"The area of a triangle {data}\"\\\n",
    "          f\" is: {area_of_a_triangle(*data)}\")"
   ]
  },
  {
   "cell_type": "code",
   "execution_count": null,
   "id": "53ae1e0c-9019-40a9-9b01-7c057cc8b3e4",
   "metadata": {},
   "outputs": [],
   "source": []
  }
 ],
 "metadata": {
  "kernelspec": {
   "display_name": "Python 3 (ipykernel)",
   "language": "python",
   "name": "python3"
  },
  "language_info": {
   "codemirror_mode": {
    "name": "ipython",
    "version": 3
   },
   "file_extension": ".py",
   "mimetype": "text/x-python",
   "name": "python",
   "nbconvert_exporter": "python",
   "pygments_lexer": "ipython3",
   "version": "3.9.12"
  }
 },
 "nbformat": 4,
 "nbformat_minor": 5
}
